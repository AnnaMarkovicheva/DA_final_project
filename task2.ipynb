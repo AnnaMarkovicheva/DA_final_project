{
 "cells": [
  {
   "cell_type": "code",
   "execution_count": 1,
   "metadata": {},
   "outputs": [],
   "source": [
    "import pandas as pd\n",
    "import numpy as np\n",
    "import matplotlib.pyplot as plt\n",
    "import seaborn as sns\n",
    "import plotly.express as px\n",
    "%matplotlib inline\n",
    "from urllib.parse import urlencode\n",
    "import scipy.stats as st\n",
    "from tqdm.auto import tqdm\n",
    "plt.style.use('ggplot')"
   ]
  },
  {
   "cell_type": "markdown",
   "metadata": {},
   "source": [
    "# Проект: вариант 1\n",
    "# Задание 2"
   ]
  },
  {
   "cell_type": "markdown",
   "metadata": {},
   "source": [
    "Имеются результаты A/B теста, в котором двум группам пользователей предлагались различные наборы акционных предложений. Известно, что ARPU в тестовой группе выше на 5%, чем в контрольной. При этом в контрольной группе 1928 игроков из 202103 оказались платящими, а в тестовой – 1805 из 202667.\n",
    "\n",
    "Какой набор предложений можно считать лучшим? Какие метрики стоит проанализировать для принятия правильного решения и как?"
   ]
  },
  {
   "cell_type": "code",
   "execution_count": 2,
   "metadata": {},
   "outputs": [
    {
     "data": {
      "text/html": [
       "<div>\n",
       "<style scoped>\n",
       "    .dataframe tbody tr th:only-of-type {\n",
       "        vertical-align: middle;\n",
       "    }\n",
       "\n",
       "    .dataframe tbody tr th {\n",
       "        vertical-align: top;\n",
       "    }\n",
       "\n",
       "    .dataframe thead th {\n",
       "        text-align: right;\n",
       "    }\n",
       "</style>\n",
       "<table border=\"1\" class=\"dataframe\">\n",
       "  <thead>\n",
       "    <tr style=\"text-align: right;\">\n",
       "      <th></th>\n",
       "      <th>user_id</th>\n",
       "      <th>revenue</th>\n",
       "      <th>testgroup</th>\n",
       "    </tr>\n",
       "  </thead>\n",
       "  <tbody>\n",
       "    <tr>\n",
       "      <th>0</th>\n",
       "      <td>1</td>\n",
       "      <td>0</td>\n",
       "      <td>b</td>\n",
       "    </tr>\n",
       "    <tr>\n",
       "      <th>1</th>\n",
       "      <td>2</td>\n",
       "      <td>0</td>\n",
       "      <td>a</td>\n",
       "    </tr>\n",
       "    <tr>\n",
       "      <th>2</th>\n",
       "      <td>3</td>\n",
       "      <td>0</td>\n",
       "      <td>a</td>\n",
       "    </tr>\n",
       "    <tr>\n",
       "      <th>3</th>\n",
       "      <td>4</td>\n",
       "      <td>0</td>\n",
       "      <td>b</td>\n",
       "    </tr>\n",
       "    <tr>\n",
       "      <th>4</th>\n",
       "      <td>5</td>\n",
       "      <td>0</td>\n",
       "      <td>b</td>\n",
       "    </tr>\n",
       "  </tbody>\n",
       "</table>\n",
       "</div>"
      ],
      "text/plain": [
       "   user_id  revenue testgroup\n",
       "0        1        0         b\n",
       "1        2        0         a\n",
       "2        3        0         a\n",
       "3        4        0         b\n",
       "4        5        0         b"
      ]
     },
     "execution_count": 2,
     "metadata": {},
     "output_type": "execute_result"
    }
   ],
   "source": [
    "# считаем исходные данные\n",
    "df2 = pd.read_csv('/mnt/HC_Volume_18315164/home-jupyter/jupyter-a-markovicheva-26/shared/problem2.csv', sep=';')\n",
    "df2.head()"
   ]
  },
  {
   "cell_type": "code",
   "execution_count": 3,
   "metadata": {},
   "outputs": [
    {
     "data": {
      "text/plain": [
       "(404770, 3)"
      ]
     },
     "execution_count": 3,
     "metadata": {},
     "output_type": "execute_result"
    }
   ],
   "source": [
    "df2.shape"
   ]
  },
  {
   "cell_type": "code",
   "execution_count": 4,
   "metadata": {},
   "outputs": [
    {
     "data": {
      "text/plain": [
       "user_id       int64\n",
       "revenue       int64\n",
       "testgroup    object\n",
       "dtype: object"
      ]
     },
     "execution_count": 4,
     "metadata": {},
     "output_type": "execute_result"
    }
   ],
   "source": [
    "df2.dtypes"
   ]
  },
  {
   "cell_type": "code",
   "execution_count": 5,
   "metadata": {},
   "outputs": [
    {
     "data": {
      "text/plain": [
       "404770"
      ]
     },
     "execution_count": 5,
     "metadata": {},
     "output_type": "execute_result"
    }
   ],
   "source": [
    "df2.user_id.nunique()"
   ]
  },
  {
   "cell_type": "code",
   "execution_count": 6,
   "metadata": {},
   "outputs": [
    {
     "data": {
      "text/plain": [
       "user_id      0\n",
       "revenue      0\n",
       "testgroup    0\n",
       "dtype: int64"
      ]
     },
     "execution_count": 6,
     "metadata": {},
     "output_type": "execute_result"
    }
   ],
   "source": [
    "# проверка на отсутствие значений\n",
    "df2.isna().sum()"
   ]
  },
  {
   "cell_type": "code",
   "execution_count": 7,
   "metadata": {},
   "outputs": [
    {
     "data": {
      "text/plain": [
       "0"
      ]
     },
     "execution_count": 7,
     "metadata": {},
     "output_type": "execute_result"
    }
   ],
   "source": [
    "# проверка на отсутствие дубликатов\n",
    "df2.duplicated().sum()"
   ]
  },
  {
   "cell_type": "code",
   "execution_count": 8,
   "metadata": {},
   "outputs": [
    {
     "data": {
      "text/html": [
       "<div>\n",
       "<style scoped>\n",
       "    .dataframe tbody tr th:only-of-type {\n",
       "        vertical-align: middle;\n",
       "    }\n",
       "\n",
       "    .dataframe tbody tr th {\n",
       "        vertical-align: top;\n",
       "    }\n",
       "\n",
       "    .dataframe thead th {\n",
       "        text-align: right;\n",
       "    }\n",
       "</style>\n",
       "<table border=\"1\" class=\"dataframe\">\n",
       "  <thead>\n",
       "    <tr style=\"text-align: right;\">\n",
       "      <th></th>\n",
       "      <th>user_id</th>\n",
       "      <th>revenue</th>\n",
       "      <th>testgroup</th>\n",
       "    </tr>\n",
       "  </thead>\n",
       "  <tbody>\n",
       "    <tr>\n",
       "      <th>0</th>\n",
       "      <td>2</td>\n",
       "      <td>0</td>\n",
       "      <td>a</td>\n",
       "    </tr>\n",
       "    <tr>\n",
       "      <th>1</th>\n",
       "      <td>3</td>\n",
       "      <td>0</td>\n",
       "      <td>a</td>\n",
       "    </tr>\n",
       "    <tr>\n",
       "      <th>2</th>\n",
       "      <td>10</td>\n",
       "      <td>0</td>\n",
       "      <td>a</td>\n",
       "    </tr>\n",
       "    <tr>\n",
       "      <th>3</th>\n",
       "      <td>11</td>\n",
       "      <td>0</td>\n",
       "      <td>a</td>\n",
       "    </tr>\n",
       "    <tr>\n",
       "      <th>4</th>\n",
       "      <td>12</td>\n",
       "      <td>0</td>\n",
       "      <td>a</td>\n",
       "    </tr>\n",
       "  </tbody>\n",
       "</table>\n",
       "</div>"
      ],
      "text/plain": [
       "   user_id  revenue testgroup\n",
       "0        2        0         a\n",
       "1        3        0         a\n",
       "2       10        0         a\n",
       "3       11        0         a\n",
       "4       12        0         a"
      ]
     },
     "execution_count": 8,
     "metadata": {},
     "output_type": "execute_result"
    }
   ],
   "source": [
    "# контрольная группа\n",
    "control = df2[df2.testgroup == 'a']\n",
    "control.reset_index(drop=True, inplace=True)\n",
    "control.head()"
   ]
  },
  {
   "cell_type": "code",
   "execution_count": 9,
   "metadata": {},
   "outputs": [
    {
     "data": {
      "text/plain": [
       "(202103, 3)"
      ]
     },
     "execution_count": 9,
     "metadata": {},
     "output_type": "execute_result"
    }
   ],
   "source": [
    "# число всех пользователей контрольной группы совпадает с условием\n",
    "control.shape"
   ]
  },
  {
   "cell_type": "code",
   "execution_count": 10,
   "metadata": {},
   "outputs": [
    {
     "data": {
      "text/plain": [
       "1928"
      ]
     },
     "execution_count": 10,
     "metadata": {},
     "output_type": "execute_result"
    }
   ],
   "source": [
    "# число платящих игроков контрольной группы совпадает с условием\n",
    "control[control.revenue != 0].revenue.count()"
   ]
  },
  {
   "cell_type": "code",
   "execution_count": 11,
   "metadata": {},
   "outputs": [
    {
     "data": {
      "text/plain": [
       "25.413719736965806"
      ]
     },
     "execution_count": 11,
     "metadata": {},
     "output_type": "execute_result"
    }
   ],
   "source": [
    "# посчитаем ARPU для контрольной группы\n",
    "control_ARPU = control.revenue.sum() / control.shape[0]\n",
    "control_ARPU"
   ]
  },
  {
   "cell_type": "code",
   "execution_count": 12,
   "metadata": {},
   "outputs": [
    {
     "data": {
      "text/html": [
       "<div>\n",
       "<style scoped>\n",
       "    .dataframe tbody tr th:only-of-type {\n",
       "        vertical-align: middle;\n",
       "    }\n",
       "\n",
       "    .dataframe tbody tr th {\n",
       "        vertical-align: top;\n",
       "    }\n",
       "\n",
       "    .dataframe thead th {\n",
       "        text-align: right;\n",
       "    }\n",
       "</style>\n",
       "<table border=\"1\" class=\"dataframe\">\n",
       "  <thead>\n",
       "    <tr style=\"text-align: right;\">\n",
       "      <th></th>\n",
       "      <th>user_id</th>\n",
       "      <th>revenue</th>\n",
       "      <th>testgroup</th>\n",
       "    </tr>\n",
       "  </thead>\n",
       "  <tbody>\n",
       "    <tr>\n",
       "      <th>0</th>\n",
       "      <td>1</td>\n",
       "      <td>0</td>\n",
       "      <td>b</td>\n",
       "    </tr>\n",
       "    <tr>\n",
       "      <th>1</th>\n",
       "      <td>4</td>\n",
       "      <td>0</td>\n",
       "      <td>b</td>\n",
       "    </tr>\n",
       "    <tr>\n",
       "      <th>2</th>\n",
       "      <td>5</td>\n",
       "      <td>0</td>\n",
       "      <td>b</td>\n",
       "    </tr>\n",
       "    <tr>\n",
       "      <th>3</th>\n",
       "      <td>6</td>\n",
       "      <td>0</td>\n",
       "      <td>b</td>\n",
       "    </tr>\n",
       "    <tr>\n",
       "      <th>4</th>\n",
       "      <td>7</td>\n",
       "      <td>0</td>\n",
       "      <td>b</td>\n",
       "    </tr>\n",
       "  </tbody>\n",
       "</table>\n",
       "</div>"
      ],
      "text/plain": [
       "   user_id  revenue testgroup\n",
       "0        1        0         b\n",
       "1        4        0         b\n",
       "2        5        0         b\n",
       "3        6        0         b\n",
       "4        7        0         b"
      ]
     },
     "execution_count": 12,
     "metadata": {},
     "output_type": "execute_result"
    }
   ],
   "source": [
    "# тестовая группа\n",
    "test = df2[df2.testgroup == 'b']\n",
    "test.reset_index(drop=True, inplace=True)\n",
    "test.head()"
   ]
  },
  {
   "cell_type": "code",
   "execution_count": 13,
   "metadata": {},
   "outputs": [
    {
     "data": {
      "text/plain": [
       "(202667, 3)"
      ]
     },
     "execution_count": 13,
     "metadata": {},
     "output_type": "execute_result"
    }
   ],
   "source": [
    "# число всех пользователей тестовой группы совпадает с условием\n",
    "test.shape"
   ]
  },
  {
   "cell_type": "code",
   "execution_count": 14,
   "metadata": {},
   "outputs": [
    {
     "data": {
      "text/plain": [
       "1805"
      ]
     },
     "execution_count": 14,
     "metadata": {},
     "output_type": "execute_result"
    }
   ],
   "source": [
    "# число платящих игроков тестовой группы совпадает с условием\n",
    "test[test.revenue != 0].revenue.count()"
   ]
  },
  {
   "cell_type": "code",
   "execution_count": 15,
   "metadata": {},
   "outputs": [
    {
     "data": {
      "text/plain": [
       "26.75128659327863"
      ]
     },
     "execution_count": 15,
     "metadata": {},
     "output_type": "execute_result"
    }
   ],
   "source": [
    "# посчитаем ARPU для тестовой группы\n",
    "test_ARPU = test.revenue.sum() / test.shape[0]\n",
    "test_ARPU"
   ]
  },
  {
   "cell_type": "code",
   "execution_count": 16,
   "metadata": {},
   "outputs": [
    {
     "data": {
      "text/plain": [
       "105.2631683600699"
      ]
     },
     "execution_count": 16,
     "metadata": {},
     "output_type": "execute_result"
    }
   ],
   "source": [
    "# отличие в 5% - совпадает с условием\n",
    "100 * test_ARPU / control_ARPU"
   ]
  },
  {
   "cell_type": "markdown",
   "metadata": {},
   "source": [
    "Прежде всего, представляется, что лучше начать с рассмотрения дохода в контрольной и тестовой группах. Стоит проверить, если ли стат. значимые различия между двумя группами."
   ]
  },
  {
   "cell_type": "code",
   "execution_count": 17,
   "metadata": {},
   "outputs": [],
   "source": [
    "# отберем только платящих пользователей из двух групп\n",
    "control_paying = control[control.revenue > 0]\n",
    "test_paying = test[test.revenue > 0]"
   ]
  },
  {
   "cell_type": "code",
   "execution_count": 18,
   "metadata": {},
   "outputs": [
    {
     "data": {
      "text/plain": [
       "count     1928.000000\n",
       "mean      2663.998444\n",
       "std       9049.039763\n",
       "min        200.000000\n",
       "25%        257.000000\n",
       "50%        311.000000\n",
       "75%        361.000000\n",
       "max      37433.000000\n",
       "Name: revenue, dtype: float64"
      ]
     },
     "execution_count": 18,
     "metadata": {},
     "output_type": "execute_result"
    }
   ],
   "source": [
    "# посмотрим подробнее\n",
    "control_paying.revenue.describe()"
   ]
  },
  {
   "cell_type": "code",
   "execution_count": 19,
   "metadata": {},
   "outputs": [
    {
     "data": {
      "text/plain": [
       "count    1805.000000\n",
       "mean     3003.658172\n",
       "std       572.619709\n",
       "min      2000.000000\n",
       "25%      2513.000000\n",
       "50%      3022.000000\n",
       "75%      3478.000000\n",
       "max      4000.000000\n",
       "Name: revenue, dtype: float64"
      ]
     },
     "execution_count": 19,
     "metadata": {},
     "output_type": "execute_result"
    }
   ],
   "source": [
    "test_paying.revenue.describe()"
   ]
  },
  {
   "cell_type": "markdown",
   "metadata": {},
   "source": [
    "Видно, что между платящими игроками контрольной группы и тестовой есть ряд различий.\n",
    "\n",
    "Во-первых, шире размах значений в контрольной группе - от 200 до 37433 у.е., тогда так в тестовой от 2000 у.е. до 4000 у.е.\n",
    "\n",
    "Во-вторых, на первый взгляд, в контрольной группе больше таких пользователей, которые платили меньше (медиана = 311, тогда как в тестовой она = 3022).\n",
    "\n",
    "В-третьих, опять же на первый взгляд, значения в контрольной группе кажутся распределенными более неравномерно, чем в тестовой (см. процентили) при более-менее одинаковом количестве пользователей.\n",
    "\n",
    "Посмотрим на распределение на графиках."
   ]
  },
  {
   "cell_type": "code",
   "execution_count": 20,
   "metadata": {},
   "outputs": [
    {
     "data": {
      "text/plain": [
       "<matplotlib.axes._subplots.AxesSubplot at 0x7f0e4faab780>"
      ]
     },
     "execution_count": 20,
     "metadata": {},
     "output_type": "execute_result"
    },
    {
     "data": {
      "image/png": "[encoded data removed]",
      "text/plain": [
       "<Figure size 1080x720 with 1 Axes>"
      ]
     },
     "metadata": {},
     "output_type": "display_data"
    }
   ],
   "source": [
    "# контрольная группа\n",
    "plt.figure(figsize=(15, 10))\n",
    "plt.title('Revernue per Players')\n",
    "plt.xlabel('Revenue')\n",
    "plt.ylabel('Number of Players')\n",
    "control_paying.revenue.hist()"
   ]
  },
  {
   "cell_type": "code",
   "execution_count": 21,
   "metadata": {},
   "outputs": [
    {
     "data": {
      "text/plain": [
       "<matplotlib.axes._subplots.AxesSubplot at 0x7f0e4ef477b8>"
      ]
     },
     "execution_count": 21,
     "metadata": {},
     "output_type": "execute_result"
    },
    {
     "data": {
      "text/plain": [
       "<Figure size 1080x720 with 0 Axes>"
      ]
     },
     "metadata": {},
     "output_type": "display_data"
    },
    {
     "data": {
      "image/png": "[encoded data removed]",
      "text/plain": [
       "<Figure size 1080x720 with 1 Axes>"
      ]
     },
     "metadata": {},
     "output_type": "display_data"
    }
   ],
   "source": [
    "# тестовая группа\n",
    "plt.figure(figsize=(15, 10))\n",
    "plt.figure(figsize=(15, 10))\n",
    "plt.title('Revernue per Players')\n",
    "plt.xlabel('Revenue')\n",
    "plt.ylabel('Number of Players')\n",
    "test_paying.revenue.hist()"
   ]
  },
  {
   "cell_type": "markdown",
   "metadata": {},
   "source": [
    "Наблюдаем, что, действительно, в тестовой группе наблюдаеся, скорее, один кластер платящих пользователей, в то время как в контрольной визуально присутствует чёткое деление на два кластера: доход до 5000 у.е. (абсолютное большинство игроков) и доход приблизительно от 34000 с пользователя (100+ человек из 1928).\n",
    "\n",
    "Судя по графикам, распределения будут отличаться от нормальных (особенно если включить неплатящих игроков), но проверим дополнительно на двух тестах - Шапиро-Уилка и scipy.stats.normaltest()."
   ]
  },
  {
   "cell_type": "code",
   "execution_count": 22,
   "metadata": {},
   "outputs": [
    {
     "data": {
      "text/plain": [
       "ShapiroResult(statistic=0.2667924761772156, pvalue=0.0)"
      ]
     },
     "execution_count": 22,
     "metadata": {},
     "output_type": "execute_result"
    }
   ],
   "source": [
    "# распределение групп на нормальность: тест Шапиро-Уилка (но на больших выборках может сработать некорректно)\n",
    "st.shapiro(control_paying.revenue)\n",
    "# p значительно меньше 0.05 - есть основания утверждать, что данные распределены ненормально в контрольной группе\n",
    "# платящих пользователей"
   ]
  },
  {
   "cell_type": "code",
   "execution_count": 23,
   "metadata": {},
   "outputs": [
    {
     "data": {
      "text/plain": [
       "NormaltestResult(statistic=1394.9457843086925, pvalue=1.2341605505935488e-303)"
      ]
     },
     "execution_count": 23,
     "metadata": {},
     "output_type": "execute_result"
    }
   ],
   "source": [
    "# распределение групп на нормальность: scipy.stats.normaltest()\n",
    "st.normaltest(control_paying.revenue)\n",
    "# p значительно меньше 0.05 - есть основания утверждать, что данные распределены ненормально в контрольной группе\n",
    "# платящих пользователей"
   ]
  },
  {
   "cell_type": "code",
   "execution_count": 24,
   "metadata": {},
   "outputs": [
    {
     "data": {
      "text/plain": [
       "ShapiroResult(statistic=0.9583123922348022, pvalue=2.491345674771425e-22)"
      ]
     },
     "execution_count": 24,
     "metadata": {},
     "output_type": "execute_result"
    }
   ],
   "source": [
    "# распределение групп на нормальность: тест Шапиро-Уилка (но на больших выборках может сработать некорректно)\n",
    "st.shapiro(test_paying.revenue)\n",
    "# p значительно меньше 0.05 - есть основания утверждать, что данные распределены ненормально в тестовой группе\n",
    "# платящих пользователей"
   ]
  },
  {
   "cell_type": "code",
   "execution_count": 25,
   "metadata": {},
   "outputs": [
    {
     "data": {
      "text/plain": [
       "NormaltestResult(statistic=1068.8600084412267, pvalue=7.943249488371762e-233)"
      ]
     },
     "execution_count": 25,
     "metadata": {},
     "output_type": "execute_result"
    }
   ],
   "source": [
    "# распределение групп на нормальность: scipy.stats.normaltest()\n",
    "st.normaltest(test_paying.revenue)\n",
    "# p значительно меньше 0.05 - есть основания утверждать, что данные распределены ненормально в тестовой группе\n",
    "# платящих пользователей"
   ]
  },
  {
   "cell_type": "code",
   "execution_count": 26,
   "metadata": {},
   "outputs": [
    {
     "data": {
      "text/plain": [
       "LeveneResult(statistic=80.85567421779912, pvalue=3.779689868667878e-19)"
      ]
     },
     "execution_count": 26,
     "metadata": {},
     "output_type": "execute_result"
    }
   ],
   "source": [
    "# требование гомогенности дисперсий: тест Левена\n",
    "st.levene(control_paying.revenue, test_paying.revenue)\n",
    "# p значительно меньше 0.05 - есть основания подозревать негомогенность дисперсии\n",
    "# среди платящих пользователей"
   ]
  },
  {
   "cell_type": "markdown",
   "metadata": {},
   "source": [
    "Дополнительно посмотрим на соблюдение требований к нормальности распределения и гомогенности дисперсий в контрольной и тестовых группах включая неплатящих пользователей."
   ]
  },
  {
   "cell_type": "code",
   "execution_count": 27,
   "metadata": {},
   "outputs": [
    {
     "data": {
      "text/plain": [
       "NormaltestResult(statistic=585152.7312728433, pvalue=0.0)"
      ]
     },
     "execution_count": 27,
     "metadata": {},
     "output_type": "execute_result"
    }
   ],
   "source": [
    "st.normaltest(control.revenue)\n",
    "# p значительно меньше 0.05"
   ]
  },
  {
   "cell_type": "code",
   "execution_count": 28,
   "metadata": {},
   "outputs": [
    {
     "data": {
      "text/plain": [
       "NormaltestResult(statistic=326622.39540856465, pvalue=0.0)"
      ]
     },
     "execution_count": 28,
     "metadata": {},
     "output_type": "execute_result"
    }
   ],
   "source": [
    "st.normaltest(test.revenue)\n",
    "# p значительно меньше 0.05"
   ]
  },
  {
   "cell_type": "code",
   "execution_count": 29,
   "metadata": {},
   "outputs": [
    {
     "data": {
      "text/plain": [
       "LeveneResult(statistic=0.3896289474701388, pvalue=0.5324948591043842)"
      ]
     },
     "execution_count": 29,
     "metadata": {},
     "output_type": "execute_result"
    }
   ],
   "source": [
    "st.levene(control.revenue, test.revenue)\n",
    "# p значительно больше 0.05"
   ]
  },
  {
   "cell_type": "markdown",
   "metadata": {},
   "source": [
    "Таким образом, критерии для проведения t-теста не соблюдены. Не имеет смысла проводить его на обеих вариациях (с включением неплатящих пользователей и без них) контрольной и тестовой групп.\n",
    "\n",
    "Проведём в таком случае U-тест, который менее чувствителен к экстремальным отклонениям от нормальности."
   ]
  },
  {
   "cell_type": "code",
   "execution_count": 30,
   "metadata": {},
   "outputs": [
    {
     "data": {
      "text/plain": [
       "MannwhitneyuResult(statistic=20491259376.0, pvalue=0.06269701316074398)"
      ]
     },
     "execution_count": 30,
     "metadata": {},
     "output_type": "execute_result"
    }
   ],
   "source": [
    "# включаем неплатящих пользователей\n",
    "st.mannwhitneyu(control.revenue, test.revenue)"
   ]
  },
  {
   "cell_type": "markdown",
   "metadata": {},
   "source": [
    "Нельзя уверенно утверждать, что между группами существует стат. значимые отличия (p > 0.05), однако весьма вероятно, что данный результат вызван включением неплатящих пользователей (доля которых составляет ~ 99% в контрольной группе и ~ 99.1% в тестовой группе).\n",
    "\n",
    "\n",
    "Посмотрим, что будет, если убрать неплатящих игроков."
   ]
  },
  {
   "cell_type": "code",
   "execution_count": 31,
   "metadata": {},
   "outputs": [
    {
     "data": {
      "text/plain": [
       "MannwhitneyuResult(statistic=222015.0, pvalue=0.0)"
      ]
     },
     "execution_count": 31,
     "metadata": {},
     "output_type": "execute_result"
    }
   ],
   "source": [
    "# исключаем неплатящих пользователей\n",
    "st.mannwhitneyu(control_paying.revenue, test_paying.revenue)"
   ]
  },
  {
   "cell_type": "markdown",
   "metadata": {},
   "source": [
    "Есть основания утверждать, что есть стат. значимые различия. Однако (sic!) нельзя понять, какой набор предложений лучше =(\n",
    "\n",
    "Проведем бутстрап для средних (только платящие пользователи) с помощью функции из модуля по статистике, урок 9."
   ]
  },
  {
   "cell_type": "code",
   "execution_count": 32,
   "metadata": {},
   "outputs": [],
   "source": [
    "def get_bootstrap(\n",
    "    data_column_1, # числовые значения первой выборки\n",
    "    data_column_2, # числовые значения второй выборки\n",
    "    boot_it = 1000, # количество бутстрэп-подвыборок\n",
    "    statistic = np.mean, # интересующая нас статистика\n",
    "    bootstrap_conf_level = 0.95 # уровень значимости\n",
    "):\n",
    "    boot_data = []\n",
    "    for i in tqdm(range(boot_it)): # извлекаем подвыборки\n",
    "        samples_1 = data_column_1.sample(\n",
    "            len(data_column_1), \n",
    "            replace = True # параметр возвращения\n",
    "        ).values\n",
    "        \n",
    "        samples_2 = data_column_2.sample(\n",
    "            len(data_column_1), \n",
    "            replace = True\n",
    "        ).values\n",
    "        \n",
    "        boot_data.append(statistic(samples_1)-statistic(samples_2)) # mean() - применяем статистику\n",
    "        \n",
    "    pd_boot_data = pd.DataFrame(boot_data)\n",
    "        \n",
    "    left_quant = (1 - bootstrap_conf_level)/2\n",
    "    right_quant = 1 - (1 - bootstrap_conf_level) / 2\n",
    "    quants = pd_boot_data.quantile([left_quant, right_quant])\n",
    "        \n",
    "    p_1 = st.norm.cdf(\n",
    "        x = 0, \n",
    "        loc = np.mean(boot_data), \n",
    "        scale = np.std(boot_data)\n",
    "    )\n",
    "    p_2 = st.norm.cdf(\n",
    "        x = 0, \n",
    "        loc = -np.mean(boot_data), \n",
    "        scale = np.std(boot_data)\n",
    "    )\n",
    "    p_value = min(p_1, p_2) * 2\n",
    "        \n",
    "    # Визуализация\n",
    "    _, _, bars = plt.hist(pd_boot_data[0], bins = 50)\n",
    "    for bar in bars:\n",
    "        if bar.get_x() <= quants.iloc[0][0] or bar.get_x() >= quants.iloc[1][0]:\n",
    "            bar.set_facecolor('red')\n",
    "        else: \n",
    "            bar.set_facecolor('grey')\n",
    "            bar.set_edgecolor('black')\n",
    "            \n",
    "    plt.style.use('ggplot')\n",
    "    plt.vlines(quants,ymin=0,ymax=50,linestyle='--')\n",
    "    plt.xlabel('boot_data')\n",
    "    plt.ylabel('frequency')\n",
    "    plt.title(\"Histogram of boot_data\")\n",
    "    plt.show()\n",
    "       \n",
    "    return {\"boot_data\": boot_data, \n",
    "            \"quants\": quants, \n",
    "            \"p_value\": p_value}"
   ]
  },
  {
   "cell_type": "code",
   "execution_count": 33,
   "metadata": {},
   "outputs": [
    {
     "data": {
      "application/vnd.jupyter.widget-view+json": {
       "model_id": "f6f48e021f294842b8e796f3557c5166",
       "version_major": 2,
       "version_minor": 0
      },
      "text/plain": [
       "HBox(children=(FloatProgress(value=0.0, max=1000.0), HTML(value='')))"
      ]
     },
     "metadata": {},
     "output_type": "display_data"
    },
    {
     "name": "stdout",
     "output_type": "stream",
     "text": [
      "\n"
     ]
    },
    {
     "data": {
      "image/png": "[encoded data removed]",
      "text/plain": [
       "<Figure size 432x288 with 1 Axes>"
      ]
     },
     "metadata": {},
     "output_type": "display_data"
    }
   ],
   "source": [
    "booted_data_paying = get_bootstrap(control_paying.revenue, test_paying.revenue)"
   ]
  },
  {
   "cell_type": "code",
   "execution_count": 34,
   "metadata": {},
   "outputs": [
    {
     "data": {
      "text/plain": [
       "0.132496695711163"
      ]
     },
     "execution_count": 34,
     "metadata": {},
     "output_type": "execute_result"
    }
   ],
   "source": [
    "# p > 0.05\n",
    "booted_data_paying[\"p_value\"]"
   ]
  },
  {
   "cell_type": "code",
   "execution_count": 35,
   "metadata": {},
   "outputs": [
    {
     "data": {
      "text/html": [
       "<div>\n",
       "<style scoped>\n",
       "    .dataframe tbody tr th:only-of-type {\n",
       "        vertical-align: middle;\n",
       "    }\n",
       "\n",
       "    .dataframe tbody tr th {\n",
       "        vertical-align: top;\n",
       "    }\n",
       "\n",
       "    .dataframe thead th {\n",
       "        text-align: right;\n",
       "    }\n",
       "</style>\n",
       "<table border=\"1\" class=\"dataframe\">\n",
       "  <thead>\n",
       "    <tr style=\"text-align: right;\">\n",
       "      <th></th>\n",
       "      <th>0</th>\n",
       "    </tr>\n",
       "  </thead>\n",
       "  <tbody>\n",
       "    <tr>\n",
       "      <th>0.025</th>\n",
       "      <td>-753.450298</td>\n",
       "    </tr>\n",
       "    <tr>\n",
       "      <th>0.975</th>\n",
       "      <td>103.469100</td>\n",
       "    </tr>\n",
       "  </tbody>\n",
       "</table>\n",
       "</div>"
      ],
      "text/plain": [
       "                0\n",
       "0.025 -753.450298\n",
       "0.975  103.469100"
      ]
     },
     "execution_count": 35,
     "metadata": {},
     "output_type": "execute_result"
    }
   ],
   "source": [
    "# 0 попал в дов интервал - нет оснований отвергать нулевую гипотезу\n",
    "booted_data_paying[\"quants\"]"
   ]
  },
  {
   "cell_type": "markdown",
   "metadata": {},
   "source": [
    "Бутстрап-анализ показывает, что нет оснований считать, что между двумя группами платящих пользователей есть стат. значимые различия (в отличие от U-теста).\n",
    "Посмотрим на группу в общем."
   ]
  },
  {
   "cell_type": "code",
   "execution_count": 36,
   "metadata": {},
   "outputs": [
    {
     "data": {
      "application/vnd.jupyter.widget-view+json": {
       "model_id": "a786097ed1c8484fb8aee8e462d41f89",
       "version_major": 2,
       "version_minor": 0
      },
      "text/plain": [
       "HBox(children=(FloatProgress(value=0.0, max=1000.0), HTML(value='')))"
      ]
     },
     "metadata": {},
     "output_type": "display_data"
    },
    {
     "name": "stdout",
     "output_type": "stream",
     "text": [
      "\n"
     ]
    },
    {
     "data": {
      "image/png": "[encoded data removed]",
      "text/plain": [
       "<Figure size 432x288 with 1 Axes>"
      ]
     },
     "metadata": {},
     "output_type": "display_data"
    }
   ],
   "source": [
    "booted_data_paying_all = get_bootstrap(control.revenue, test.revenue)"
   ]
  },
  {
   "cell_type": "code",
   "execution_count": 37,
   "metadata": {},
   "outputs": [
    {
     "data": {
      "text/plain": [
       "0.5246598111822188"
      ]
     },
     "execution_count": 37,
     "metadata": {},
     "output_type": "execute_result"
    }
   ],
   "source": [
    "# p > 0.05\n",
    "booted_data_paying_all[\"p_value\"]"
   ]
  },
  {
   "cell_type": "code",
   "execution_count": 38,
   "metadata": {},
   "outputs": [
    {
     "data": {
      "text/html": [
       "<div>\n",
       "<style scoped>\n",
       "    .dataframe tbody tr th:only-of-type {\n",
       "        vertical-align: middle;\n",
       "    }\n",
       "\n",
       "    .dataframe tbody tr th {\n",
       "        vertical-align: top;\n",
       "    }\n",
       "\n",
       "    .dataframe thead th {\n",
       "        text-align: right;\n",
       "    }\n",
       "</style>\n",
       "<table border=\"1\" class=\"dataframe\">\n",
       "  <thead>\n",
       "    <tr style=\"text-align: right;\">\n",
       "      <th></th>\n",
       "      <th>0</th>\n",
       "    </tr>\n",
       "  </thead>\n",
       "  <tbody>\n",
       "    <tr>\n",
       "      <th>0.025</th>\n",
       "      <td>-5.519805</td>\n",
       "    </tr>\n",
       "    <tr>\n",
       "      <th>0.975</th>\n",
       "      <td>3.057744</td>\n",
       "    </tr>\n",
       "  </tbody>\n",
       "</table>\n",
       "</div>"
      ],
      "text/plain": [
       "              0\n",
       "0.025 -5.519805\n",
       "0.975  3.057744"
      ]
     },
     "execution_count": 38,
     "metadata": {},
     "output_type": "execute_result"
    }
   ],
   "source": [
    "# 0 попал в дов интервал - нет оснований отвергать нулевую гипотезу\n",
    "booted_data_paying_all[\"quants\"]"
   ]
  },
  {
   "cell_type": "markdown",
   "metadata": {},
   "source": [
    "Для полного состава групп также нет оснований утверждать, что существуют стат. значимые различия.\n",
    "\n",
    "Снова взглянем на состав групп.\n",
    "\n",
    "Выше отмечалось, что тестовая группа платящих игроков представляется более \"монолитной\" (пользователи внесли от 2000 до 4000 у.е., при этом количество дохода от пользователей распределено более-менее равномерно (25 процентиль - 2513 у.е., 50 процентиль - 3022 у.е., 75 процентиль - 3478 у.е. соответственно, при размахе от 2К до 4К).\n",
    "\n",
    "В то же время контрольная группа платящих игроков явно разбивается на два кластера: до 5000 у.е. (абсолютное большинство пользователей) и доход приблизительно от 34000 с игрока (100+ человек из 1928). Посмотрим на эти два кластера подробнее."
   ]
  },
  {
   "cell_type": "code",
   "execution_count": 39,
   "metadata": {},
   "outputs": [],
   "source": [
    "# разобьём контрольную группу платящих на два кластера: кто платит меньше и кто платит больше\n",
    "control_paying_less = control_paying[control_paying.revenue <= 5000]\n",
    "control_paying_more = control_paying[control_paying.revenue > 5000]"
   ]
  },
  {
   "cell_type": "code",
   "execution_count": 40,
   "metadata": {},
   "outputs": [
    {
     "data": {
      "text/plain": [
       "count    1805.000000\n",
       "mean      302.458172\n",
       "std        57.914246\n",
       "min       200.000000\n",
       "25%       254.000000\n",
       "50%       305.000000\n",
       "75%       352.000000\n",
       "max       400.000000\n",
       "Name: revenue, dtype: float64"
      ]
     },
     "execution_count": 40,
     "metadata": {},
     "output_type": "execute_result"
    }
   ],
   "source": [
    "# посмотрим данные подробнее\n",
    "control_paying_less.revenue.describe()"
   ]
  },
  {
   "cell_type": "code",
   "execution_count": 41,
   "metadata": {},
   "outputs": [
    {
     "data": {
      "text/plain": [
       "count      123.000000\n",
       "mean     37319.121951\n",
       "std         25.442183\n",
       "min      37293.000000\n",
       "25%      37301.000000\n",
       "50%      37311.000000\n",
       "75%      37329.000000\n",
       "max      37433.000000\n",
       "Name: revenue, dtype: float64"
      ]
     },
     "execution_count": 41,
     "metadata": {},
     "output_type": "execute_result"
    }
   ],
   "source": [
    "control_paying_more.revenue.describe()"
   ]
  },
  {
   "cell_type": "markdown",
   "metadata": {},
   "source": [
    "Заметно, что основная масса платящих пользователей контрольной группы внесли от 200 до 400 у.е., тогда как всего 123 человека (меньше одного процента платящих игроков!) делают \"основную кассу\" игре, внеся колоссальные суммы в ~37К каждый.\n",
    "\n",
    "Прежде чем перейти к выводам по заданию, посмотрим на другие метрики: сумма дохода, средний и медианный доход среди платящих, ARPU, ARPPU, конверсия - по тестовой группе, контрольной группе, включающей в себя 123 самых \"доходных\" пользователей, и контрольной группе, не включающей в себя 123 самых \"доходных\" пользователей. "
   ]
  },
  {
   "cell_type": "code",
   "execution_count": 42,
   "metadata": {},
   "outputs": [
    {
     "data": {
      "text/plain": [
       "count    201980.000000\n",
       "mean          2.702926\n",
       "std          28.985815\n",
       "min           0.000000\n",
       "25%           0.000000\n",
       "50%           0.000000\n",
       "75%           0.000000\n",
       "max         400.000000\n",
       "Name: revenue, dtype: float64"
      ]
     },
     "execution_count": 42,
     "metadata": {},
     "output_type": "execute_result"
    }
   ],
   "source": [
    "# создадим контрольную группу, не включающую в себя 123 самых \"доходных\" пользователей\n",
    "control_group_without_123_payers = control[control.revenue < 5000]\n",
    "control_group_without_123_payers.revenue.describe()"
   ]
  },
  {
   "cell_type": "code",
   "execution_count": 43,
   "metadata": {},
   "outputs": [
    {
     "data": {
      "text/html": [
       "<div>\n",
       "<style scoped>\n",
       "    .dataframe tbody tr th:only-of-type {\n",
       "        vertical-align: middle;\n",
       "    }\n",
       "\n",
       "    .dataframe tbody tr th {\n",
       "        vertical-align: top;\n",
       "    }\n",
       "\n",
       "    .dataframe thead th {\n",
       "        text-align: right;\n",
       "    }\n",
       "</style>\n",
       "<table border=\"1\" class=\"dataframe\">\n",
       "  <thead>\n",
       "    <tr style=\"text-align: right;\">\n",
       "      <th></th>\n",
       "      <th>test_group</th>\n",
       "      <th>control_group</th>\n",
       "      <th>control_group_without_123_payers</th>\n",
       "    </tr>\n",
       "  </thead>\n",
       "  <tbody>\n",
       "    <tr>\n",
       "      <th>total_number</th>\n",
       "      <td>202,667.000</td>\n",
       "      <td>202,103.000</td>\n",
       "      <td>irrelevant</td>\n",
       "    </tr>\n",
       "    <tr>\n",
       "      <th>number_paid</th>\n",
       "      <td>1,805.000</td>\n",
       "      <td>1,928.000</td>\n",
       "      <td>irrelevant</td>\n",
       "    </tr>\n",
       "    <tr>\n",
       "      <th>conversion_rate</th>\n",
       "      <td>0.009</td>\n",
       "      <td>0.010</td>\n",
       "      <td>irrelevant</td>\n",
       "    </tr>\n",
       "    <tr>\n",
       "      <th>revenue_sum</th>\n",
       "      <td>5,421,603.000</td>\n",
       "      <td>5,136,189.000</td>\n",
       "      <td>545937</td>\n",
       "    </tr>\n",
       "    <tr>\n",
       "      <th>revenue_mean</th>\n",
       "      <td>3,003.658</td>\n",
       "      <td>2,663.998</td>\n",
       "      <td>302.458</td>\n",
       "    </tr>\n",
       "    <tr>\n",
       "      <th>revenue_median</th>\n",
       "      <td>3,022.000</td>\n",
       "      <td>311.000</td>\n",
       "      <td>305.000</td>\n",
       "    </tr>\n",
       "    <tr>\n",
       "      <th>ARPU</th>\n",
       "      <td>26.751</td>\n",
       "      <td>25.414</td>\n",
       "      <td>2.703</td>\n",
       "    </tr>\n",
       "    <tr>\n",
       "      <th>ARPPU</th>\n",
       "      <td>3,003.658</td>\n",
       "      <td>2,663.998</td>\n",
       "      <td>302.458</td>\n",
       "    </tr>\n",
       "  </tbody>\n",
       "</table>\n",
       "</div>"
      ],
      "text/plain": [
       "                   test_group  control_group control_group_without_123_payers\n",
       "total_number      202,667.000    202,103.000                       irrelevant\n",
       "number_paid         1,805.000      1,928.000                       irrelevant\n",
       "conversion_rate         0.009          0.010                       irrelevant\n",
       "revenue_sum     5,421,603.000  5,136,189.000                           545937\n",
       "revenue_mean        3,003.658      2,663.998                          302.458\n",
       "revenue_median      3,022.000        311.000                          305.000\n",
       "ARPU                   26.751         25.414                            2.703\n",
       "ARPPU               3,003.658      2,663.998                          302.458"
      ]
     },
     "execution_count": 43,
     "metadata": {},
     "output_type": "execute_result"
    }
   ],
   "source": [
    "summary_df = pd.DataFrame(index=['total_number',\n",
    "                                 'number_paid',\n",
    "                                 'conversion_rate',\n",
    "                                 'revenue_sum',\n",
    "                                 'revenue_mean',\n",
    "                                 'revenue_median',\n",
    "                                 'ARPU',\n",
    "                                 'ARPPU'])\n",
    "\n",
    "# данные по тестовой группе\n",
    "summary_df['test_group'] = [test.user_id.count(),\n",
    "                            test_paying.user_id.count(),\n",
    "                            test_paying.user_id.count() / test.user_id.count(),\n",
    "                            test_paying.revenue.sum(),\n",
    "                            test_paying.revenue.mean(),\n",
    "                            test_paying.revenue.median(),\n",
    "                            test.revenue.sum() / test.shape[0],\n",
    "                            test.revenue.sum() / test_paying.shape[0]]\n",
    "\n",
    "\n",
    "# данные по контрольной группе\n",
    "summary_df['control_group'] = [control.user_id.count(),\n",
    "                            control_paying.user_id.count(),\n",
    "                            control_paying.user_id.count() / control.user_id.count(),\n",
    "                            control_paying.revenue.sum(),\n",
    "                            control_paying.revenue.mean(),\n",
    "                            control_paying.revenue.median(),\n",
    "                            control.revenue.sum() / control.shape[0],\n",
    "                            control.revenue.sum() / control_paying.shape[0]]\n",
    "\n",
    "# данные по контрольной группе с исключением наиболее прибыльных (менее одного процента от платящих) пользователей\n",
    "# не рассчитываем часть метрик, так как они не покажут необходимое контрастное сравнение,\n",
    "# кроме того факта, что метрика просто уменьшится (стоит \"irrelevant\")\n",
    "\n",
    "summary_df['control_group_without_123_payers'] = ['irrelevant',\n",
    "                            'irrelevant',\n",
    "                            'irrelevant',\n",
    "                            control_paying_less.revenue.sum(),\n",
    "                            control_paying_less.revenue.mean(),\n",
    "                            control_paying_less.revenue.median(),\n",
    "                            control_group_without_123_payers.revenue.sum() / control_group_without_123_payers.shape[0],\n",
    "                            control_group_without_123_payers.revenue.sum() / control_paying_less.shape[0]]\n",
    "\n",
    "\n",
    "\n",
    "pd.options.display.float_format ='{:,.3f}'.format\n",
    "summary_df"
   ]
  },
  {
   "cell_type": "markdown",
   "metadata": {},
   "source": [
    "## Выводы\n",
    "\n",
    "Тестовая и контрольная группы друг от друга отличаются.\n",
    "\n",
    "Среди платящих пользователей тестовой группы не наблюдается ярко выраженное деление на кластеры: все они принесли доход от 2000 до 4000 у.е. каждый, при этом количество приносимого дохода на пользователя распределено относительно равномерно.\n",
    "\n",
    "Среди платящих пользователей контрольной группы наблюдается чёткое деление: здесь 99% игроков приносят прибыль от 200 до 400 у.е. (на порядок меньше, чем в тестовой группе), тогда как в ней же существуют 123 игрока (менее 1% платящих), внесших ~37 тыс. у.е. каждый, сформировав превалирующую часть общего дохода группы.\n",
    "\n",
    "Единственное совпадение у двух групп - в том, что менее 1% всех игроков приносят доход.\n",
    "\n",
    "Стат. тесты показали следующее:\n",
    "- бутстрап на всех пользователях и на платящих игроках, U-тест на всех пользователях: вероятность стат. значимых различий мала;\n",
    "- U-тест на платящих пользователях - есть вероятность стат. значимых разлчиий между группами.\n",
    "\n",
    "Если взглянуть на другие метрики (сумма дохода, средний и медианный доход среди платящих игроков, ARPU, ARPPU, конверсия), то тестовая группа обладает сравнительно более высокими показателями, за исключением конверсии.\n",
    "\n",
    "Таким образом, главным преимуществом контрольной группы стало то, что ее предложения привлекли пусть небольшое количество, но игроков, готовых вкладывать по 37000 у.е. В то же время, набор предложений тестовой группы обеспечил более стабильный и сравнительно высокий доход среди платящих пользователей (если сопоставить с 99% платников контрольной группы).\n",
    "\n",
    "У каждого подхода свои плюсы, но я бы выбрала набор предложений тестовой группы, пусть даже с риском потерять \"почётных доноров\". В ином случае выходит, что всего 1% платников контрольной группы делали доход, тогда как в тестовой все вкладывались равномерно, обеспечивая стабильный приток денег, к тому же, на порядок больше, чем 99% платящих контрольной группы. Вдобавок, в тестовой группе был заметен рост метрик ARPU и ARPPU."
   ]
  }
 ],
 "metadata": {
  "kernelspec": {
   "display_name": "Python 3",
   "language": "python",
   "name": "python3"
  },
  "language_info": {
   "codemirror_mode": {
    "name": "ipython",
    "version": 3
   },
   "file_extension": ".py",
   "mimetype": "text/x-python",
   "name": "python",
   "nbconvert_exporter": "python",
   "pygments_lexer": "ipython3",
   "version": "3.7.3"
  }
 },
 "nbformat": 4,
 "nbformat_minor": 4
}
